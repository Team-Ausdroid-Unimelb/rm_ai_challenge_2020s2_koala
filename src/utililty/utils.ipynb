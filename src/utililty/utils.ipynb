{
 "cells": [
  {
   "cell_type": "code",
   "execution_count": 1,
   "metadata": {},
   "outputs": [],
   "source": [
    "import os"
   ]
  },
  {
   "cell_type": "code",
   "execution_count": null,
   "metadata": {},
   "outputs": [],
   "source": [
    "## File Name Prefix Adder (both txt & jpg)\n",
    "\n",
    "path = \"200each/red/\"\n",
    "prefix = \"red_2_\"\n",
    "\n",
    "for filename in os.listdir(path):\n",
    "     \n",
    "    src = path + filename\n",
    "#     filename = filename.replace(\"_blue_2\", \"\")\n",
    "    dst = path + prefix + filename\n",
    "\n",
    "    os.rename(src, dst)"
   ]
  },
  {
   "cell_type": "code",
   "execution_count": 49,
   "metadata": {},
   "outputs": [],
   "source": [
    "## File List Generator\n",
    "\n",
    "path = \"200each/\"\n",
    "listname = 'rm_train.txt'\n",
    "\n",
    "with open(listname, 'w') as file:\n",
    "    \n",
    "    for filename in os.listdir(path):\n",
    "    \n",
    "        if filename.endswith(\".jpg\") and os.path.isfile(path + filename.replace(\".jpg\", \"\") + \".txt\"):\n",
    "        \n",
    "            file.write(\"data/images/rm_koala/200each/\" + filename + \"\\n\")"
   ]
  },
  {
   "cell_type": "code",
   "execution_count": 9,
   "metadata": {},
   "outputs": [],
   "source": [
    "## Label Modifier - Create New Files with Modified Content\n",
    "\n",
    "path = \"200each/armour\"\n",
    "suffix = \"_armour\"\n",
    "\n",
    "for filename in os.listdir(path):\n",
    "\n",
    "    if filename.endswith(\".txt\"):\n",
    "        \n",
    "        filepath = os.path.join(path, filename)\n",
    "        \n",
    "        with open(filepath, 'rt') as read_file:\n",
    "            \n",
    "            with open(filepath[:-4] + suffix + \".txt\", 'wt') as write_file:\n",
    "\n",
    "                for line in read_file:\n",
    "                    \n",
    "#                     if line.startswith('0'):\n",
    "#                         write_file.write(line)\n",
    "                        \n",
    "                    if line.startswith('1'):\n",
    "                        write_file.write('0' + line[1:])\n",
    "                    elif line.startswith('2'):\n",
    "                        write_file.write('1' + line[1:])\n",
    "                    elif line.startswith('3'):\n",
    "                        write_file.write('2' + line[1:])\n",
    "\n",
    "#                     if line.startswith('0'):\n",
    "#                         write_file.write('0' + line[1:])\n",
    "#                     elif line.startswith('1'):\n",
    "#                         write_file.write('1' + line[1:])\n",
    "#                     elif line.startswith('2'):\n",
    "#                         write_file.write('2' + line[1:])\n",
    "#                     elif line.startswith('3'):\n",
    "#                         write_file.write('3' + line[1:])\n",
    "\n"
   ]
  },
  {
   "cell_type": "code",
   "execution_count": 46,
   "metadata": {},
   "outputs": [],
   "source": [
    "## Label Modifier - Original Files Removal\n",
    "\n",
    "for filename in os.listdir(path):\n",
    "\n",
    "    if filename.endswith(\".txt\") and (suffix not in filename):\n",
    "        \n",
    "        os.remove(os.path.join(path, filename))"
   ]
  },
  {
   "cell_type": "code",
   "execution_count": 47,
   "metadata": {},
   "outputs": [],
   "source": [
    "## Label Modifier - Rename New Files to Original File\n",
    "\n",
    "for filename in os.listdir(path):\n",
    "\n",
    "    if filename.endswith(\".txt\"):\n",
    "        \n",
    "        src = os.path.join(path, filename)\n",
    "        dst = src.replace(suffix, \"\")\n",
    "        \n",
    "        os.rename(src, dst)"
   ]
  },
  {
   "cell_type": "code",
   "execution_count": null,
   "metadata": {},
   "outputs": [],
   "source": []
  }
 ],
 "metadata": {
  "kernelspec": {
   "display_name": "Python 3",
   "language": "python",
   "name": "python3"
  },
  "language_info": {
   "codemirror_mode": {
    "name": "ipython",
    "version": 3
   },
   "file_extension": ".py",
   "mimetype": "text/x-python",
   "name": "python",
   "nbconvert_exporter": "python",
   "pygments_lexer": "ipython3",
   "version": "3.7.6"
  }
 },
 "nbformat": 4,
 "nbformat_minor": 4
}
