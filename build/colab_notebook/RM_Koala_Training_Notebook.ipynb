{
  "nbformat": 4,
  "nbformat_minor": 0,
  "metadata": {
    "colab": {
      "name": "RM-Koala-Training_Notebook.ipynb",
      "private_outputs": true,
      "provenance": [],
      "collapsed_sections": [],
      "toc_visible": true
    },
    "kernelspec": {
      "name": "python3",
      "display_name": "Python 3"
    },
    "accelerator": "GPU"
  },
  "cells": [
    {
      "cell_type": "markdown",
      "metadata": {
        "id": "iZULaGX7_H1u"
      },
      "source": [
        "# RoboMaster AI Challenge - YOLO Trainer\n",
        "Armour localisation/identification with YOLO (You Only Look Once: one-shot object detection algorithm)\n",
        "> Framework: darknet https://github.com/AlexeyAB/darknet\n",
        "\n",
        "> Architecture:\n",
        "* YOLOv3, YOLOv4 - original model focus on superior performance\n",
        "* YOLOv3-tiny, YOLOv4-tiny - lightweight model suitable for mobile application \n",
        "\n",
        "> Requirements:\n",
        "* Internet connection\n",
        "* Google Drive with at least 500MB free space (need more if you are training with non-tiny models)"
      ]
    },
    {
      "cell_type": "markdown",
      "metadata": {
        "id": "XtPZXSQBEKmQ"
      },
      "source": [
        "##COMP90082 - Software Project - RM-koala\n",
        "\n",
        "Team member (alphabetical order):\n",
        "\n",
        "* Akhtar Kurniawan (Akhtar)\n",
        "* Che-Hao Chang (Ryan)\n",
        "* Isaac Pedroza (Isaac)\n",
        "* Jia Yin (Jia)\n",
        "* Sejin Kim (Kim)\n"
      ]
    },
    {
      "cell_type": "markdown",
      "metadata": {
        "id": "SVXgliQZwn5M"
      },
      "source": [
        "##System setup/checking"
      ]
    },
    {
      "cell_type": "markdown",
      "metadata": {
        "id": "vM-nTtPYiy-0"
      },
      "source": [
        "####Mount your Google Drive"
      ]
    },
    {
      "cell_type": "code",
      "metadata": {
        "id": "q2Jjv0yRKLPe"
      },
      "source": [
        "%cd ..\n",
        "from google.colab import drive\n",
        "drive.mount('/content/gdrive')"
      ],
      "execution_count": null,
      "outputs": []
    },
    {
      "cell_type": "markdown",
      "metadata": {
        "id": "bWn-0RG_io7-"
      },
      "source": [
        "####Verify GPU and CUDA driver"
      ]
    },
    {
      "cell_type": "code",
      "metadata": {
        "id": "9AiHNvp3AIEn"
      },
      "source": [
        "!ln -sf /opt/bin/nvidia-smi /usr/bin/nvidia-smi\n",
        "!pip install gputil\n",
        "!pip install psutil\n",
        "import psutil\n",
        "import os\n",
        "import GPUtil as GPU\n",
        "\n",
        "GPUs = GPU.getGPUs()\n",
        "gpu = GPUs[0]\n",
        "process = psutil.Process(os.getpid())\n",
        "\n",
        "print(\"GPU RAM {}MB\".format(gpu.memoryTotal))\n",
        "\n",
        "!/usr/local/cuda/bin/nvcc --version"
      ],
      "execution_count": null,
      "outputs": []
    },
    {
      "cell_type": "markdown",
      "metadata": {
        "id": "gE3azXoR_pWi"
      },
      "source": [
        "##File retrieving/uploading"
      ]
    },
    {
      "cell_type": "markdown",
      "metadata": {
        "id": "7cHJD6koiBKb"
      },
      "source": [
        "####Clone darknet repo & Configure the runtime settings & Make the executable"
      ]
    },
    {
      "cell_type": "code",
      "metadata": {
        "id": "68eMertgIxaB"
      },
      "source": [
        "%cd content/gdrive/My\\ Drive\n",
        "!git clone https://github.com/AlexeyAB/darknet\n",
        "%cd darknet\n",
        "!sed -i 's/OPENCV=0/OPENCV=1/' Makefile\n",
        "!sed -i 's/GPU=0/GPU=1/' Makefile\n",
        "!sed -i 's/CUDNN=0/CUDNN=1/' Makefile\n",
        "!sed -i 's/CUDNN_HALF=0/CUDNN_HALF=1/' Makefile\n",
        "!make\n",
        "!chmod +x ./darknet"
      ],
      "execution_count": null,
      "outputs": []
    },
    {
      "cell_type": "markdown",
      "metadata": {
        "id": "RRRXmtJRcjIv"
      },
      "source": [
        "###Define auxiliary functions"
      ]
    },
    {
      "cell_type": "code",
      "metadata": {
        "id": "Qvq0dXVNtlps"
      },
      "source": [
        "def imShow(path):\n",
        "  import cv2\n",
        "  import matplotlib.pyplot as plt\n",
        "  %matplotlib inline\n",
        "\n",
        "  image = cv2.imread(path)\n",
        "  height, width = image.shape[:2]\n",
        "  resized_image = cv2.resize(image,(3*width, 3*height), interpolation = cv2.INTER_CUBIC)\n",
        "\n",
        "  fig = plt.gcf()\n",
        "  fig.set_size_inches(18, 10)\n",
        "  plt.axis(\"off\")\n",
        "  plt.imshow(cv2.cvtColor(resized_image, cv2.COLOR_BGR2RGB))\n",
        "  plt.show()\n",
        "  \n",
        "def upload():\n",
        "  from google.colab import files\n",
        "  uploaded = files.upload() \n",
        "  for name, data in uploaded.items():\n",
        "    with open(name, 'wb') as f:\n",
        "      f.write(data)"
      ],
      "execution_count": null,
      "outputs": []
    },
    {
      "cell_type": "markdown",
      "metadata": {
        "id": "qLLyXDQzmYMQ"
      },
      "source": [
        "###File type overview\n",
        "> Download online\n",
        "* .conv: Initial weight file\n",
        "\n",
        "> Create your own\n",
        "* .cfg: Configuration file, defines the neural network architecture\n",
        "* .data: Points to the data list txt file\n",
        "* .txt: Contains list of paths to train/ test/ valid images\n",
        "* .names: Defines the class label strings\n",
        "\n",
        "> Training/ Validation/ Testing dataset\n",
        "* Images: JPG/PNG supported\n",
        "* Labels: Put in the same directory and with the same name as the corresponding image, but with .txt-extension.\n",
        "```\n",
        "Label format: <object-class> <x> <y> <width> <height>\n",
        "```"
      ]
    },
    {
      "cell_type": "markdown",
      "metadata": {
        "id": "97B7t1Wp9L3L"
      },
      "source": [
        "####Retrieve initial weight files"
      ]
    },
    {
      "cell_type": "code",
      "metadata": {
        "id": "HZhLk8_H31XM"
      },
      "source": [
        "!wget https://github.com/AlexeyAB/darknet/releases/download/darknet_yolo_v3_optimal/yolov4.conv.137\n",
        "!wget https://github.com/AlexeyAB/darknet/releases/download/darknet_yolo_v4_pre/yolov4-tiny.conv.29\n",
        "!wget https://pjreddie.com/media/files/darknet53.conv.74\n",
        "!wget https://drive.google.com/file/d/18v36esoXCh-PsOKwyP2GWrpYDptDY8Zf/view?usp=sharing"
      ],
      "execution_count": null,
      "outputs": []
    },
    {
      "cell_type": "markdown",
      "metadata": {
        "id": "5RtnKCeQKrZW"
      },
      "source": [
        "###Use our examples"
      ]
    },
    {
      "cell_type": "code",
      "metadata": {
        "id": "JYBYZORnKqFO"
      },
      "source": [
        "# loader files\n",
        "%cd data\n",
        "!wget https://github.com/cchia790411/rm_ai_challenge_2020s2_koala/raw/master/src/file_list/rm_armour_train.txt\n",
        "!wget https://github.com/cchia790411/rm_ai_challenge_2020s2_koala/raw/master/src/file_list/rm_pose_train.txt\n",
        "\n",
        "# image data\n",
        "!mkdir images\n",
        "%cd images\n",
        "!mkdir rm_koala\n",
        "%cd rm_koala\n",
        "!wget https://github.com/cchia790411/rm_ai_challenge_2020s2_koala/raw/master/src/images/armour200each.zip\n",
        "!wget https://github.com/cchia790411/rm_ai_challenge_2020s2_koala/raw/master/src/images/pose200each.zip\n",
        "!unzip armour200each.zip\n",
        "!unzip pose200each.zip\n",
        "%cd ../../..\n",
        "\n",
        "# configuration files\n",
        "%cd cfg\n",
        "!wget https://github.com/cchia790411/rm_ai_challenge_2020s2_koala/raw/master/src/cfg/yolov4-tiny_2class_mod.cfg\n",
        "!wget https://github.com/cchia790411/rm_ai_challenge_2020s2_koala/raw/master/src/cfg/yolov4-tiny_3class.cfg\n",
        "!wget https://github.com/cchia790411/rm_ai_challenge_2020s2_koala/raw/master/src/cfg/rm_armour.data\n",
        "!wget https://github.com/cchia790411/rm_ai_challenge_2020s2_koala/raw/master/src/cfg/rm_armour.names\n",
        "!wget https://github.com/cchia790411/rm_ai_challenge_2020s2_koala/raw/master/src/cfg/rm_pose.data\n",
        "!wget https://github.com/cchia790411/rm_ai_challenge_2020s2_koala/raw/master/src/cfg/rm_pose.names\n",
        "%cd .."
      ],
      "execution_count": null,
      "outputs": []
    },
    {
      "cell_type": "markdown",
      "metadata": {
        "id": "JbTvJEckQuMl"
      },
      "source": [
        "###Upload your own"
      ]
    },
    {
      "cell_type": "markdown",
      "metadata": {
        "id": "AJErrL64LXgU"
      },
      "source": [
        "####Upload your .cfg/ .data/ .name files"
      ]
    },
    {
      "cell_type": "code",
      "metadata": {
        "id": "TsIGHT5ELXgV"
      },
      "source": [
        "%cd cfg\n",
        "upload()\n",
        "%cd .."
      ],
      "execution_count": null,
      "outputs": []
    },
    {
      "cell_type": "markdown",
      "metadata": {
        "id": "Omddujy0QZsh"
      },
      "source": [
        "####Upload your image list"
      ]
    },
    {
      "cell_type": "code",
      "metadata": {
        "id": "SxqZO_bkQZBq"
      },
      "source": [
        "%cd data\n",
        "upload()\n",
        "%cd .."
      ],
      "execution_count": null,
      "outputs": []
    },
    {
      "cell_type": "markdown",
      "metadata": {
        "id": "oF3C146GQ4JQ"
      },
      "source": [
        "####Upload your dataset\n",
        "> We recommend you compress them all into a zip file and unzip after upload"
      ]
    },
    {
      "cell_type": "code",
      "metadata": {
        "id": "GYQTpV-hOcfQ"
      },
      "source": [
        "%cd data\n",
        "!mkdir images\n",
        "%cd images\n",
        "upload()\n",
        "!unzip YOUR_ZIPPED_DATASET.zip\n",
        "%cd ../.."
      ],
      "execution_count": null,
      "outputs": []
    },
    {
      "cell_type": "markdown",
      "metadata": {
        "id": "-EddwcJuGzMH"
      },
      "source": [
        "##Training/Verifying"
      ]
    },
    {
      "cell_type": "markdown",
      "metadata": {
        "id": "KceLvJFfe401"
      },
      "source": [
        "####Start training"
      ]
    },
    {
      "cell_type": "markdown",
      "metadata": {
        "id": "UhSjSCiBTyd5"
      },
      "source": [
        "Change the capital part to your file name and run it to start training\n",
        "```\n",
        "!./darknet detector train cfg/YOUR_DATA.data cfg/YOUR_DATA.cfg INITIAL_WEIGHT -dont_show\n",
        "```"
      ]
    },
    {
      "cell_type": "code",
      "metadata": {
        "id": "yyIw3KztVAr-"
      },
      "source": [
        "## Example\n",
        "!./darknet detector train cfg/rm_pose.data cfg/yolov4-tiny_3class.cfg yolov4-tiny.conv.29 -dont_show"
      ],
      "execution_count": null,
      "outputs": []
    },
    {
      "cell_type": "markdown",
      "metadata": {
        "id": "og7W2fbJe8TH"
      },
      "source": [
        "####Pick up training in case of the training is interrupted"
      ]
    },
    {
      "cell_type": "markdown",
      "metadata": {
        "id": "TSHlFU-yWEMo"
      },
      "source": [
        "Change the capital part to your file name and run it to resume training\n",
        "```\n",
        "!./darknet detector train cfg/YOUR_DATA.data cfg/YOUR_CFG.cfg backup/YOUR_CFG_last.weights -dont_show\n",
        "```"
      ]
    },
    {
      "cell_type": "code",
      "metadata": {
        "id": "Fl7PsmikjCBW"
      },
      "source": [
        "## Example\n",
        "!./darknet detector train cfg/rm_pose.data cfg/yolov4-tiny_3class.cfg backup/yolov4-tiny_3class_last.weights -dont_show"
      ],
      "execution_count": null,
      "outputs": []
    },
    {
      "cell_type": "markdown",
      "metadata": {
        "id": "pNL49BiA5lE5"
      },
      "source": [
        "####Verify training result"
      ]
    },
    {
      "cell_type": "markdown",
      "metadata": {
        "id": "LSrhRtvkWfwu"
      },
      "source": [
        "Change the capital part to your file name and run it to resume training\n",
        "```\n",
        "!./darknet detector test cfg/YOUR_DATA.data cfg/YOUR_CFG.cfg backup/YOUR_CFG_last.weights PATH_TO_TEST_IMAGE -dont_show\n",
        "```"
      ]
    },
    {
      "cell_type": "markdown",
      "metadata": {
        "id": "wQFMZ-9zTHif"
      },
      "source": [
        "###darknet framework command overview\n",
        ">Command format\n",
        "* !./darknet detector test [path to .data file] [path to config] [path to weights] [path to image]\n",
        "\n",
        ">Command line flags\n",
        "* -ext_output: output bounding box location\n",
        "* -thresh: Set confidence threshold for prediction\n",
        "* -out: Output result as json file\n",
        "* -map: Show mean average percision over training when there is a validation data set \n",
        "* -dont_show: Don't show prediction result in place\n"
      ]
    },
    {
      "cell_type": "code",
      "metadata": {
        "id": "i18-9DtDiO_m"
      },
      "source": [
        "## Example\n",
        "!./darknet detector test cfg/rm_pose.data cfg/yolov4-tiny_3class.cfg backup/yolov4-tiny_3class_last.weights data/images/rm_koala/pose200each/blue_2_frame0060.jpg -ext_output -dont_show -thresh 0.5\n",
        "imShow('predictions.jpg')"
      ],
      "execution_count": null,
      "outputs": []
    },
    {
      "cell_type": "code",
      "metadata": {
        "id": "36NBn8ztlKkX"
      },
      "source": [
        ""
      ],
      "execution_count": null,
      "outputs": []
    }
  ]
}