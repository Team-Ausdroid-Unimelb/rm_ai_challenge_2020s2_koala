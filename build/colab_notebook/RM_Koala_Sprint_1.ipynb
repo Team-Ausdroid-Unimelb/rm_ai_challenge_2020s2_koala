{
  "nbformat": 4,
  "nbformat_minor": 0,
  "metadata": {
    "colab": {
      "name": "RM-Koala-Sprint-1.ipynb",
      "provenance": [],
      "private_outputs": true,
      "collapsed_sections": []
    },
    "kernelspec": {
      "name": "python3",
      "display_name": "Python 3"
    },
    "accelerator": "GPU"
  },
  "cells": [
    {
      "cell_type": "markdown",
      "metadata": {
        "id": "iZULaGX7_H1u"
      },
      "source": [
        "# RoboMaster AI Challenge 1.0.0\n",
        "Armour localisation/identification with YOLO (You Only Look Once: one-shot object detection algorithm)\n",
        "> Framework: darknet https://github.com/AlexeyAB/darknet\n",
        "\n",
        "> Architecture:\n",
        "* YOLOv3, YOLOv4 - original model focus on superior performance\n",
        "* YOLOv3-tiny, YOLOv4-tiny - lightweight model suitable for mobile application "
      ]
    },
    {
      "cell_type": "markdown",
      "metadata": {
        "id": "XtPZXSQBEKmQ"
      },
      "source": [
        "##COMP90082 - Software Project - RM-koala\n",
        "\n",
        "Team member (alphabetical order):\n",
        "\n",
        "* Akhtar Kurniawan (Akhtar)\n",
        "* Che-Hao Chang (Ryan)\n",
        "* Isaac Pedroza (Isaac)\n",
        "* Jia Yin (Jia)\n",
        "* Sejin Kim (Kim)\n"
      ]
    },
    {
      "cell_type": "markdown",
      "metadata": {
        "id": "SVXgliQZwn5M"
      },
      "source": [
        "##Set up"
      ]
    },
    {
      "cell_type": "markdown",
      "metadata": {
        "id": "vM-nTtPYiy-0"
      },
      "source": [
        "####Mount your Google Drive"
      ]
    },
    {
      "cell_type": "code",
      "metadata": {
        "id": "q2Jjv0yRKLPe"
      },
      "source": [
        "%cd ..\n",
        "from google.colab import drive\n",
        "drive.mount('/content/gdrive')"
      ],
      "execution_count": null,
      "outputs": []
    },
    {
      "cell_type": "markdown",
      "metadata": {
        "id": "bWn-0RG_io7-"
      },
      "source": [
        "####Verify GPU and CUDA driver"
      ]
    },
    {
      "cell_type": "code",
      "metadata": {
        "id": "9AiHNvp3AIEn"
      },
      "source": [
        "!ln -sf /opt/bin/nvidia-smi /usr/bin/nvidia-smi\n",
        "!pip install gputil\n",
        "!pip install psutil\n",
        "import psutil\n",
        "import os\n",
        "import GPUtil as GPU\n",
        "\n",
        "GPUs = GPU.getGPUs()\n",
        "gpu = GPUs[0]\n",
        "process = psutil.Process(os.getpid())\n",
        "\n",
        "print(\"GPU RAM {}MB\".format(gpu.memoryTotal))\n",
        "\n",
        "!/usr/local/cuda/bin/nvcc --version"
      ],
      "execution_count": null,
      "outputs": []
    },
    {
      "cell_type": "markdown",
      "metadata": {
        "id": "gE3azXoR_pWi"
      },
      "source": [
        "##First run set up (Execute this section only for the first run)"
      ]
    },
    {
      "cell_type": "markdown",
      "metadata": {
        "id": "7cHJD6koiBKb"
      },
      "source": [
        "####Clone darknet repo & Configure the runtime settings & Make the executable"
      ]
    },
    {
      "cell_type": "code",
      "metadata": {
        "id": "68eMertgIxaB"
      },
      "source": [
        "%cd content/gdrive/My\\ Drive\n",
        "!git clone https://github.com/AlexeyAB/darknet\n",
        "%cd darknet\n",
        "!sed -i 's/OPENCV=0/OPENCV=1/' Makefile\n",
        "!sed -i 's/GPU=0/GPU=1/' Makefile\n",
        "!sed -i 's/CUDNN=0/CUDNN=1/' Makefile\n",
        "!sed -i 's/CUDNN_HALF=0/CUDNN_HALF=1/' Makefile\n",
        "!make"
      ],
      "execution_count": null,
      "outputs": []
    },
    {
      "cell_type": "markdown",
      "metadata": {
        "id": "qLLyXDQzmYMQ"
      },
      "source": [
        "###File type overview\n",
        ">* .weight/.conv: Initial weight or trained weight file\n",
        "* .cfg: Configuration file, defines the network architecture\n",
        "* .data: Points to the data directory\n",
        "* .names: Defines the class labels"
      ]
    },
    {
      "cell_type": "markdown",
      "metadata": {
        "id": "97B7t1Wp9L3L"
      },
      "source": [
        "####Retrieve necessary files"
      ]
    },
    {
      "cell_type": "code",
      "metadata": {
        "id": "HZhLk8_H31XM"
      },
      "source": [
        "# weight files\n",
        "!wget https://github.com/cchia790411/rm_ai_challenge_2020s2_koala/raw/master/src/trained_weight/rm_koala/yolov4-tiny_armour.weights\n",
        "!wget https://github.com/cchia790411/rm_ai_challenge_2020s2_koala/raw/master/src/trained_weight/rm_koala/yolov4-tiny_pose.weights\n",
        "\n",
        "# loader files\n",
        "%cd data\n",
        "!wget https://github.com/cchia790411/rm_ai_challenge_2020s2_koala/raw/master/src/file_list/rm_armour_train.txt\n",
        "!wget https://github.com/cchia790411/rm_ai_challenge_2020s2_koala/raw/master/src/file_list/rm_pose_train.txt\n",
        "\n",
        "# image data\n",
        "!mkdir images\n",
        "%cd images\n",
        "!wget https://github.com/cchia790411/rm_ai_challenge_2020s2_koala/raw/master/src/images/training/200each.zip\n",
        "!unzip 200each.zip\n",
        "%cd ../..\n",
        "\n",
        "# configuration files\n",
        "%cd cfg\n",
        "!wget https://github.com/cchia790411/rm_ai_challenge_2020s2_koala/raw/master/src/cfg/yolov4-tiny_2class_mod.cfg\n",
        "!wget https://github.com/cchia790411/rm_ai_challenge_2020s2_koala/raw/master/src/cfg/yolov4-tiny_3class.cfg\n",
        "!wget https://github.com/cchia790411/rm_ai_challenge_2020s2_koala/raw/master/src/cfg/rm_armour.data\n",
        "!wget https://github.com/cchia790411/rm_ai_challenge_2020s2_koala/raw/master/src/cfg/rm_armour.names\n",
        "!wget https://github.com/cchia790411/rm_ai_challenge_2020s2_koala/raw/master/src/cfg/rm_pose.data\n",
        "!wget https://github.com/cchia790411/rm_ai_challenge_2020s2_koala/raw/master/src/cfg/rm_pose.names\n",
        "%cd .."
      ],
      "execution_count": null,
      "outputs": []
    },
    {
      "cell_type": "markdown",
      "metadata": {
        "id": "9VgWP50qv8Ih"
      },
      "source": [
        "##Armour localisation/identification"
      ]
    },
    {
      "cell_type": "markdown",
      "metadata": {
        "id": "RnFT-2t2MF7b"
      },
      "source": [
        "####Define image displayer & File uploader"
      ]
    },
    {
      "cell_type": "code",
      "metadata": {
        "id": "Qvq0dXVNtlps"
      },
      "source": [
        "def imShow(path):\n",
        "  import cv2\n",
        "  import matplotlib.pyplot as plt\n",
        "  %matplotlib inline\n",
        "\n",
        "  image = cv2.imread(path)\n",
        "  height, width = image.shape[:2]\n",
        "  resized_image = cv2.resize(image,(3*width, 3*height), interpolation = cv2.INTER_CUBIC)\n",
        "\n",
        "  fig = plt.gcf()\n",
        "  fig.set_size_inches(18, 10)\n",
        "  plt.axis(\"off\")\n",
        "  plt.imshow(cv2.cvtColor(resized_image, cv2.COLOR_BGR2RGB))\n",
        "  plt.show()"
      ],
      "execution_count": null,
      "outputs": []
    },
    {
      "cell_type": "code",
      "metadata": {
        "id": "gOUklWPqtveB"
      },
      "source": [
        "def upload():\n",
        "  from google.colab import files\n",
        "  uploaded = files.upload() \n",
        "  for name, data in uploaded.items():\n",
        "    with open(name, 'wb') as f:\n",
        "      f.write(data)"
      ],
      "execution_count": null,
      "outputs": []
    },
    {
      "cell_type": "markdown",
      "metadata": {
        "id": "wQFMZ-9zTHif"
      },
      "source": [
        "###darknet framework command overview\n",
        ">Command format\n",
        "* !./darknet detector test [path to .data file] [path to config] [path to weights] [path to image]\n",
        "\n",
        ">Command line flags\n",
        "* -ext_output: output bounding box location\n",
        "* -thresh: Set confidence threshold for prediction\n",
        "* -out: Output result as json file\n",
        "* -map: Show mean average percision over training when there is a validation data set \n",
        "* -dont_show: Don't show prediction result in place\n"
      ]
    },
    {
      "cell_type": "code",
      "metadata": {
        "id": "rKCXxdUxGPlT"
      },
      "source": [
        "%cd darknet\n",
        "\n",
        "!chmod +x ./darknet"
      ],
      "execution_count": null,
      "outputs": []
    },
    {
      "cell_type": "markdown",
      "metadata": {
        "id": "7vXpOnHRJhr1"
      },
      "source": [
        "####Armour localisation"
      ]
    },
    {
      "cell_type": "code",
      "metadata": {
        "id": "BAB6vkZuGgBD"
      },
      "source": [
        "!./darknet detector test cfg/rm_armour.data cfg/yolov4-tiny_2class_mod.cfg yolov4-tiny_armour.weights data/images/200each/blue_2_frame0060.jpg -dont_show\n",
        "imShow('predictions.jpg')"
      ],
      "execution_count": null,
      "outputs": []
    },
    {
      "cell_type": "markdown",
      "metadata": {
        "id": "mQb2eJi2JdHM"
      },
      "source": [
        "####Armour identification"
      ]
    },
    {
      "cell_type": "code",
      "metadata": {
        "id": "GTf7tPbLIRXw"
      },
      "source": [
        "!./darknet detector test cfg/rm_pose.data cfg/yolov4-tiny_3class.cfg yolov4-tiny_pose.weights data/images/200each/blue_2_frame0060.jpg -dont_show\n",
        "imShow('predictions.jpg')"
      ],
      "execution_count": null,
      "outputs": []
    },
    {
      "cell_type": "markdown",
      "metadata": {
        "id": "H1w4XF5eJWTw"
      },
      "source": [
        "####Test your own image"
      ]
    },
    {
      "cell_type": "markdown",
      "metadata": {
        "id": "u1BoMhqLKl0_"
      },
      "source": [
        "Upload your image"
      ]
    },
    {
      "cell_type": "code",
      "metadata": {
        "id": "X2S2liiAIyE-"
      },
      "source": [
        "upload()"
      ],
      "execution_count": null,
      "outputs": []
    },
    {
      "cell_type": "markdown",
      "metadata": {
        "id": "IU9Zv_TvJ96q"
      },
      "source": [
        "Copy the following code into a new code block, replace \"YOUR_FILE_NAME_HERE\" with your file name (extension included) and execute\n",
        "\n",
        "Armour localisation\n",
        "```\n",
        "!./darknet detector test cfg/rm_armour.data cfg/yolov4-tiny_2class_mod.cfg yolov4-tiny_armour.weights YOUR_FILE_NAME_HERE\n",
        "imShow('predictions.jpg')\n",
        "```\n",
        "\n",
        "Armour identification\n",
        "```\n",
        "!./darknet detector test cfg/rm_pose.data cfg/yolov4-tiny_3class.cfg yolov4-tiny_pose.weights YOUR_FILE_NAME_HERE\n",
        "imShow('predictions.jpg')\n",
        "```"
      ]
    },
    {
      "cell_type": "code",
      "metadata": {
        "id": "Mw-bN3-nJRVE"
      },
      "source": [
        "!./darknet detector test cfg/rm_armour.data cfg/yolov4-tiny_2class_mod.cfg yolov4-tiny_armour.weights blue_1_frame0532.jpg\n",
        "imShow('predictions.jpg')"
      ],
      "execution_count": null,
      "outputs": []
    },
    {
      "cell_type": "code",
      "metadata": {
        "id": "TzrdLq53LIhm"
      },
      "source": [
        ""
      ],
      "execution_count": null,
      "outputs": []
    }
  ]
}